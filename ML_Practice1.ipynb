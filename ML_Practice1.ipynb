{
  "nbformat": 4,
  "nbformat_minor": 0,
  "metadata": {
    "colab": {
      "provenance": [],
      "authorship_tag": "ABX9TyNCLXtM5apijLjB/zrYQMbJ"
    },
    "kernelspec": {
      "name": "python3",
      "display_name": "Python 3"
    },
    "language_info": {
      "name": "python"
    }
  },
  "cells": [
    {
      "cell_type": "code",
      "execution_count": 38,
      "metadata": {
        "id": "iuwNFjBh3YXF"
      },
      "outputs": [],
      "source": [
        "import numpy as np\n",
        "import pandas as pd\n",
        "from sklearn.model_selection import train_test_split, GridSearchCV\n",
        "from sklearn.linear_model import Ridge, Lasso\n",
        "from sklearn.ensemble import RandomForestRegressor\n",
        "from sklearn.metrics import mean_absolute_error, mean_squared_error, r2_score\n",
        "from sklearn.feature_selection import SelectKBest, f_regression\n",
        "from sklearn.preprocessing import LabelEncoder\n",
        "\n"
      ]
    },
    {
      "cell_type": "code",
      "source": [
        "data = pd.read_csv(\"/content/Student_Performance.csv\")"
      ],
      "metadata": {
        "id": "aFP9Bnm6AsX9"
      },
      "execution_count": 39,
      "outputs": []
    },
    {
      "cell_type": "code",
      "source": [
        "categorical_columns = data.select_dtypes(include=['object']).columns\n"
      ],
      "metadata": {
        "id": "RKXup3NTFDUP"
      },
      "execution_count": 40,
      "outputs": []
    },
    {
      "cell_type": "code",
      "source": [
        "label_encoders = {}\n",
        "for col in categorical_columns:\n",
        "    le = LabelEncoder()\n",
        "    data[col] = le.fit_transform(data[col])\n",
        "    label_encoders[col] = le"
      ],
      "metadata": {
        "id": "_CzUMYVBFKr9"
      },
      "execution_count": 41,
      "outputs": []
    },
    {
      "cell_type": "code",
      "source": [
        "data.dropna(inplace=True)\n",
        "X = data.drop(columns=['Performance Index'])\n",
        "y = data['Performance Index']\n",
        "X_train, X_test, y_train, y_test = train_test_split(X, y, test_size=0.2, random_state=42)\n"
      ],
      "metadata": {
        "id": "q80_Pq5JA-PT"
      },
      "execution_count": 26,
      "outputs": []
    },
    {
      "cell_type": "code",
      "source": [
        "selected_features = ['Previous Scores', 'Hours Studied', 'Sleep Hours', 'Sample Question Papers Practiced', 'Extracurricular Activities']\n",
        "data_selected = data[selected_features]\n",
        "data_selected[\"Performance Index\"] = data[\"Performance Index\"]"
      ],
      "metadata": {
        "id": "tqBqz8lhCfMH"
      },
      "execution_count": 58,
      "outputs": []
    },
    {
      "cell_type": "code",
      "source": [
        "print(\"Columns in dataset:\", data_selected.columns, \"\\n\")\n"
      ],
      "metadata": {
        "colab": {
          "base_uri": "https://localhost:8080/"
        },
        "id": "tdmZ0q8wE0rv",
        "outputId": "ee25135a-0695-4fa1-a9e8-480e972dd012"
      },
      "execution_count": 59,
      "outputs": [
        {
          "output_type": "stream",
          "name": "stdout",
          "text": [
            "Columns in dataset: Index(['Previous Scores', 'Hours Studied', 'Sleep Hours',\n",
            "       'Sample Question Papers Practiced', 'Extracurricular Activities',\n",
            "       'Performance Index'],\n",
            "      dtype='object') \n",
            "\n"
          ]
        }
      ]
    },
    {
      "cell_type": "code",
      "source": [
        "data_selected += np.random.normal(0, 0.5, data_selected.shape)"
      ],
      "metadata": {
        "id": "U5I5FBYeKKCv"
      },
      "execution_count": 60,
      "outputs": []
    },
    {
      "cell_type": "code",
      "source": [
        "X = data_selected.drop(columns=[\"Performance Index\"])\n",
        "y = data_selected[\"Performance Index\"]\n",
        "X_train, X_test, y_train, y_test = train_test_split(X, y, test_size=0.2)"
      ],
      "metadata": {
        "id": "XTNGQvHCFd0p"
      },
      "execution_count": 61,
      "outputs": []
    },
    {
      "cell_type": "code",
      "source": [
        "ridge = Ridge(alpha=np.random.uniform(0.1, 2.0))\n",
        "ridge.fit(X_train, y_train)\n",
        "y_pred = ridge.predict(X_test)"
      ],
      "metadata": {
        "id": "rp_6FDQmFosH"
      },
      "execution_count": 62,
      "outputs": []
    },
    {
      "cell_type": "code",
      "source": [
        "mse = mean_squared_error(y_test, y_pred)\n",
        "rmse = np.sqrt(mse)\n",
        "mae = mean_absolute_error(y_test, y_pred)\n",
        "r2 = r2_score(y_test, y_pred)\n",
        "\n"
      ],
      "metadata": {
        "id": "hPVcfqyhFzB9"
      },
      "execution_count": 63,
      "outputs": []
    },
    {
      "cell_type": "code",
      "source": [
        "print(\"Mean Squared Error =\", mse)\n",
        "print(\"Root Mean Squared Error =\", rmse)\n",
        "print(\"Mean Absolute Error =\", mae)\n",
        "print(\"R² Score =\", r2)\n",
        "\n"
      ],
      "metadata": {
        "colab": {
          "base_uri": "https://localhost:8080/"
        },
        "id": "bJM5-1CqGDRQ",
        "outputId": "c92d5922-c320-4312-f680-e0e84b26921d"
      },
      "execution_count": 67,
      "outputs": [
        {
          "output_type": "stream",
          "name": "stdout",
          "text": [
            "Mean Squared Error = 6.503597661084412\n",
            "Root Mean Squared Error = 2.550215218581446\n",
            "Mean Absolute Error = 2.0198187406812957\n",
            "R² Score = 0.9817032694807901\n"
          ]
        }
      ]
    },
    {
      "cell_type": "code",
      "source": [],
      "metadata": {
        "id": "gkO65-OiGL5r"
      },
      "execution_count": null,
      "outputs": []
    }
  ]
}